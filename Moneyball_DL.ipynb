{
 "cells": [
  {
   "cell_type": "code",
   "execution_count": 47,
   "metadata": {},
   "outputs": [],
   "source": [
    "import os \n",
    "os.environ['CUDA_VISIBLE_DEVICES'] = \"0\""
   ]
  },
  {
   "cell_type": "code",
   "execution_count": 48,
   "metadata": {},
   "outputs": [
    {
     "data": {
      "text/html": [
       "<div>\n",
       "<style scoped>\n",
       "    .dataframe tbody tr th:only-of-type {\n",
       "        vertical-align: middle;\n",
       "    }\n",
       "\n",
       "    .dataframe tbody tr th {\n",
       "        vertical-align: top;\n",
       "    }\n",
       "\n",
       "    .dataframe thead th {\n",
       "        text-align: right;\n",
       "    }\n",
       "</style>\n",
       "<table border=\"1\" class=\"dataframe\">\n",
       "  <thead>\n",
       "    <tr style=\"text-align: right;\">\n",
       "      <th></th>\n",
       "      <th>date</th>\n",
       "      <th>time</th>\n",
       "      <th>team_home</th>\n",
       "      <th>team_away</th>\n",
       "      <th>home_pitcher</th>\n",
       "      <th>away_batter1</th>\n",
       "      <th>away_batter2</th>\n",
       "      <th>away_batter3</th>\n",
       "      <th>away_batter4</th>\n",
       "      <th>away_batter5</th>\n",
       "      <th>...</th>\n",
       "      <th>home_batter9</th>\n",
       "      <th>away_total</th>\n",
       "      <th>home_total</th>\n",
       "      <th>yard_wOBA</th>\n",
       "      <th>umpire_K/BB</th>\n",
       "      <th>total</th>\n",
       "      <th>over</th>\n",
       "      <th>under</th>\n",
       "      <th>total_score</th>\n",
       "      <th>result</th>\n",
       "    </tr>\n",
       "  </thead>\n",
       "  <tbody>\n",
       "    <tr>\n",
       "      <th>0</th>\n",
       "      <td>2016/6/8</td>\n",
       "      <td>19</td>\n",
       "      <td>BAL</td>\n",
       "      <td>KC</td>\n",
       "      <td>4.54</td>\n",
       "      <td>0.133560</td>\n",
       "      <td>0.161712</td>\n",
       "      <td>0.141664</td>\n",
       "      <td>0.162025</td>\n",
       "      <td>0.168400</td>\n",
       "      <td>...</td>\n",
       "      <td>0.117572</td>\n",
       "      <td>0</td>\n",
       "      <td>4</td>\n",
       "      <td>1.008</td>\n",
       "      <td>2.56962</td>\n",
       "      <td>2.0</td>\n",
       "      <td>1.5</td>\n",
       "      <td>2.5</td>\n",
       "      <td>4.0</td>\n",
       "      <td>over</td>\n",
       "    </tr>\n",
       "    <tr>\n",
       "      <th>1</th>\n",
       "      <td>2016/7/1</td>\n",
       "      <td>19</td>\n",
       "      <td>BOS</td>\n",
       "      <td>LAA</td>\n",
       "      <td>4.57</td>\n",
       "      <td>0.128565</td>\n",
       "      <td>0.188355</td>\n",
       "      <td>0.153141</td>\n",
       "      <td>0.234477</td>\n",
       "      <td>0.381657</td>\n",
       "      <td>...</td>\n",
       "      <td>0.021867</td>\n",
       "      <td>0</td>\n",
       "      <td>5</td>\n",
       "      <td>0.956</td>\n",
       "      <td>2.43529</td>\n",
       "      <td>2.0</td>\n",
       "      <td>1.4</td>\n",
       "      <td>2.6</td>\n",
       "      <td>5.0</td>\n",
       "      <td>over</td>\n",
       "    </tr>\n",
       "    <tr>\n",
       "      <th>2</th>\n",
       "      <td>2015/4/6</td>\n",
       "      <td>13</td>\n",
       "      <td>DET</td>\n",
       "      <td>MIN</td>\n",
       "      <td>3.24</td>\n",
       "      <td>0.124847</td>\n",
       "      <td>0.141783</td>\n",
       "      <td>0.148824</td>\n",
       "      <td>0.136840</td>\n",
       "      <td>0.127560</td>\n",
       "      <td>...</td>\n",
       "      <td>0.156085</td>\n",
       "      <td>0</td>\n",
       "      <td>3</td>\n",
       "      <td>0.994</td>\n",
       "      <td>2.32558</td>\n",
       "      <td>2.0</td>\n",
       "      <td>2.0</td>\n",
       "      <td>1.9</td>\n",
       "      <td>3.0</td>\n",
       "      <td>over</td>\n",
       "    </tr>\n",
       "    <tr>\n",
       "      <th>3</th>\n",
       "      <td>2016/5/13</td>\n",
       "      <td>19</td>\n",
       "      <td>CLE</td>\n",
       "      <td>MIN</td>\n",
       "      <td>4.13</td>\n",
       "      <td>0.130816</td>\n",
       "      <td>0.139188</td>\n",
       "      <td>0.179804</td>\n",
       "      <td>0.150747</td>\n",
       "      <td>0.123340</td>\n",
       "      <td>...</td>\n",
       "      <td>0.143427</td>\n",
       "      <td>4</td>\n",
       "      <td>3</td>\n",
       "      <td>0.994</td>\n",
       "      <td>2.53750</td>\n",
       "      <td>2.0</td>\n",
       "      <td>1.4</td>\n",
       "      <td>2.6</td>\n",
       "      <td>7.0</td>\n",
       "      <td>over</td>\n",
       "    </tr>\n",
       "    <tr>\n",
       "      <th>4</th>\n",
       "      <td>2016/5/27</td>\n",
       "      <td>19</td>\n",
       "      <td>CLE</td>\n",
       "      <td>BAL</td>\n",
       "      <td>4.13</td>\n",
       "      <td>0.125488</td>\n",
       "      <td>0.164452</td>\n",
       "      <td>0.188828</td>\n",
       "      <td>0.155944</td>\n",
       "      <td>0.162928</td>\n",
       "      <td>...</td>\n",
       "      <td>0.130370</td>\n",
       "      <td>3</td>\n",
       "      <td>3</td>\n",
       "      <td>0.972</td>\n",
       "      <td>2.23864</td>\n",
       "      <td>2.0</td>\n",
       "      <td>1.4</td>\n",
       "      <td>2.6</td>\n",
       "      <td>6.0</td>\n",
       "      <td>over</td>\n",
       "    </tr>\n",
       "  </tbody>\n",
       "</table>\n",
       "<p>5 rows × 33 columns</p>\n",
       "</div>"
      ],
      "text/plain": [
       "        date  time team_home team_away  home_pitcher  away_batter1  \\\n",
       "0   2016/6/8    19       BAL        KC          4.54      0.133560   \n",
       "1   2016/7/1    19       BOS       LAA          4.57      0.128565   \n",
       "2   2015/4/6    13       DET       MIN          3.24      0.124847   \n",
       "3  2016/5/13    19       CLE       MIN          4.13      0.130816   \n",
       "4  2016/5/27    19       CLE       BAL          4.13      0.125488   \n",
       "\n",
       "   away_batter2  away_batter3  away_batter4  away_batter5  ...  home_batter9  \\\n",
       "0      0.161712      0.141664      0.162025      0.168400  ...      0.117572   \n",
       "1      0.188355      0.153141      0.234477      0.381657  ...      0.021867   \n",
       "2      0.141783      0.148824      0.136840      0.127560  ...      0.156085   \n",
       "3      0.139188      0.179804      0.150747      0.123340  ...      0.143427   \n",
       "4      0.164452      0.188828      0.155944      0.162928  ...      0.130370   \n",
       "\n",
       "   away_total  home_total  yard_wOBA  umpire_K/BB  total  over  under  \\\n",
       "0           0           4      1.008      2.56962    2.0   1.5    2.5   \n",
       "1           0           5      0.956      2.43529    2.0   1.4    2.6   \n",
       "2           0           3      0.994      2.32558    2.0   2.0    1.9   \n",
       "3           4           3      0.994      2.53750    2.0   1.4    2.6   \n",
       "4           3           3      0.972      2.23864    2.0   1.4    2.6   \n",
       "\n",
       "   total_score  result  \n",
       "0          4.0    over  \n",
       "1          5.0    over  \n",
       "2          3.0    over  \n",
       "3          7.0    over  \n",
       "4          6.0    over  \n",
       "\n",
       "[5 rows x 33 columns]"
      ]
     },
     "execution_count": 48,
     "metadata": {},
     "output_type": "execute_result"
    }
   ],
   "source": [
    "#DATA preprocessing\n",
    "import pandas as pd\n",
    "import numpy as np \n",
    "path='./data/'\n",
    "df = pd.read_csv(path+'test.csv')\n",
    "df.head()"
   ]
  },
  {
   "cell_type": "code",
   "execution_count": 49,
   "metadata": {},
   "outputs": [
    {
     "data": {
      "text/html": [
       "<div>\n",
       "<style scoped>\n",
       "    .dataframe tbody tr th:only-of-type {\n",
       "        vertical-align: middle;\n",
       "    }\n",
       "\n",
       "    .dataframe tbody tr th {\n",
       "        vertical-align: top;\n",
       "    }\n",
       "\n",
       "    .dataframe thead th {\n",
       "        text-align: right;\n",
       "    }\n",
       "</style>\n",
       "<table border=\"1\" class=\"dataframe\">\n",
       "  <thead>\n",
       "    <tr style=\"text-align: right;\">\n",
       "      <th></th>\n",
       "      <th>time</th>\n",
       "      <th>team_home</th>\n",
       "      <th>team_away</th>\n",
       "      <th>home_pitcher</th>\n",
       "      <th>away_batter1</th>\n",
       "      <th>away_batter2</th>\n",
       "      <th>away_batter3</th>\n",
       "      <th>away_batter4</th>\n",
       "      <th>away_batter5</th>\n",
       "      <th>away_batter6</th>\n",
       "      <th>...</th>\n",
       "      <th>away_total</th>\n",
       "      <th>home_total</th>\n",
       "      <th>yard_wOBA</th>\n",
       "      <th>umpire_K/BB</th>\n",
       "      <th>total</th>\n",
       "      <th>over</th>\n",
       "      <th>under</th>\n",
       "      <th>total_score</th>\n",
       "      <th>result</th>\n",
       "      <th>date_new</th>\n",
       "    </tr>\n",
       "  </thead>\n",
       "  <tbody>\n",
       "    <tr>\n",
       "      <th>0</th>\n",
       "      <td>19</td>\n",
       "      <td>BAL</td>\n",
       "      <td>KC</td>\n",
       "      <td>4.54</td>\n",
       "      <td>0.133560</td>\n",
       "      <td>0.161712</td>\n",
       "      <td>0.141664</td>\n",
       "      <td>0.162025</td>\n",
       "      <td>0.168400</td>\n",
       "      <td>0.147307</td>\n",
       "      <td>...</td>\n",
       "      <td>0</td>\n",
       "      <td>4</td>\n",
       "      <td>1.008</td>\n",
       "      <td>2.56962</td>\n",
       "      <td>2.0</td>\n",
       "      <td>1.5</td>\n",
       "      <td>2.5</td>\n",
       "      <td>4.0</td>\n",
       "      <td>over</td>\n",
       "      <td>23</td>\n",
       "    </tr>\n",
       "    <tr>\n",
       "      <th>1</th>\n",
       "      <td>19</td>\n",
       "      <td>BOS</td>\n",
       "      <td>LAA</td>\n",
       "      <td>4.57</td>\n",
       "      <td>0.128565</td>\n",
       "      <td>0.188355</td>\n",
       "      <td>0.153141</td>\n",
       "      <td>0.234477</td>\n",
       "      <td>0.381657</td>\n",
       "      <td>0.121897</td>\n",
       "      <td>...</td>\n",
       "      <td>0</td>\n",
       "      <td>5</td>\n",
       "      <td>0.956</td>\n",
       "      <td>2.43529</td>\n",
       "      <td>2.0</td>\n",
       "      <td>1.4</td>\n",
       "      <td>2.6</td>\n",
       "      <td>5.0</td>\n",
       "      <td>over</td>\n",
       "      <td>26</td>\n",
       "    </tr>\n",
       "    <tr>\n",
       "      <th>2</th>\n",
       "      <td>13</td>\n",
       "      <td>DET</td>\n",
       "      <td>MIN</td>\n",
       "      <td>3.24</td>\n",
       "      <td>0.124847</td>\n",
       "      <td>0.141783</td>\n",
       "      <td>0.148824</td>\n",
       "      <td>0.136840</td>\n",
       "      <td>0.127560</td>\n",
       "      <td>0.158853</td>\n",
       "      <td>...</td>\n",
       "      <td>0</td>\n",
       "      <td>3</td>\n",
       "      <td>0.994</td>\n",
       "      <td>2.32558</td>\n",
       "      <td>2.0</td>\n",
       "      <td>2.0</td>\n",
       "      <td>1.9</td>\n",
       "      <td>3.0</td>\n",
       "      <td>over</td>\n",
       "      <td>14</td>\n",
       "    </tr>\n",
       "    <tr>\n",
       "      <th>3</th>\n",
       "      <td>19</td>\n",
       "      <td>CLE</td>\n",
       "      <td>MIN</td>\n",
       "      <td>4.13</td>\n",
       "      <td>0.130816</td>\n",
       "      <td>0.139188</td>\n",
       "      <td>0.179804</td>\n",
       "      <td>0.150747</td>\n",
       "      <td>0.123340</td>\n",
       "      <td>0.155667</td>\n",
       "      <td>...</td>\n",
       "      <td>4</td>\n",
       "      <td>3</td>\n",
       "      <td>0.994</td>\n",
       "      <td>2.53750</td>\n",
       "      <td>2.0</td>\n",
       "      <td>1.4</td>\n",
       "      <td>2.6</td>\n",
       "      <td>7.0</td>\n",
       "      <td>over</td>\n",
       "      <td>19</td>\n",
       "    </tr>\n",
       "    <tr>\n",
       "      <th>4</th>\n",
       "      <td>19</td>\n",
       "      <td>CLE</td>\n",
       "      <td>BAL</td>\n",
       "      <td>4.13</td>\n",
       "      <td>0.125488</td>\n",
       "      <td>0.164452</td>\n",
       "      <td>0.188828</td>\n",
       "      <td>0.155944</td>\n",
       "      <td>0.162928</td>\n",
       "      <td>0.131848</td>\n",
       "      <td>...</td>\n",
       "      <td>3</td>\n",
       "      <td>3</td>\n",
       "      <td>0.972</td>\n",
       "      <td>2.23864</td>\n",
       "      <td>2.0</td>\n",
       "      <td>1.4</td>\n",
       "      <td>2.6</td>\n",
       "      <td>6.0</td>\n",
       "      <td>over</td>\n",
       "      <td>21</td>\n",
       "    </tr>\n",
       "  </tbody>\n",
       "</table>\n",
       "<p>5 rows × 33 columns</p>\n",
       "</div>"
      ],
      "text/plain": [
       "   time team_home team_away  home_pitcher  away_batter1  away_batter2  \\\n",
       "0    19       BAL        KC          4.54      0.133560      0.161712   \n",
       "1    19       BOS       LAA          4.57      0.128565      0.188355   \n",
       "2    13       DET       MIN          3.24      0.124847      0.141783   \n",
       "3    19       CLE       MIN          4.13      0.130816      0.139188   \n",
       "4    19       CLE       BAL          4.13      0.125488      0.164452   \n",
       "\n",
       "   away_batter3  away_batter4  away_batter5  away_batter6  ...  away_total  \\\n",
       "0      0.141664      0.162025      0.168400      0.147307  ...           0   \n",
       "1      0.153141      0.234477      0.381657      0.121897  ...           0   \n",
       "2      0.148824      0.136840      0.127560      0.158853  ...           0   \n",
       "3      0.179804      0.150747      0.123340      0.155667  ...           4   \n",
       "4      0.188828      0.155944      0.162928      0.131848  ...           3   \n",
       "\n",
       "   home_total  yard_wOBA  umpire_K/BB  total  over  under  total_score  \\\n",
       "0           4      1.008      2.56962    2.0   1.5    2.5          4.0   \n",
       "1           5      0.956      2.43529    2.0   1.4    2.6          5.0   \n",
       "2           3      0.994      2.32558    2.0   2.0    1.9          3.0   \n",
       "3           3      0.994      2.53750    2.0   1.4    2.6          7.0   \n",
       "4           3      0.972      2.23864    2.0   1.4    2.6          6.0   \n",
       "\n",
       "   result  date_new  \n",
       "0    over        23  \n",
       "1    over        26  \n",
       "2    over        14  \n",
       "3    over        19  \n",
       "4    over        21  \n",
       "\n",
       "[5 rows x 33 columns]"
      ]
     },
     "execution_count": 49,
     "metadata": {},
     "output_type": "execute_result"
    }
   ],
   "source": [
    "import datetime\n",
    "df['date_new']=df['date'].apply(lambda x:datetime.datetime.strptime(x, '%Y/%m/%d'))\n",
    "#df['date_new']=df['date_new'].apply(lambda x:datetime.datetime.strftime(x, '%Y/%m/%d'))\n",
    "df['date_new']=df['date_new'].apply(lambda x:datetime.datetime.strftime(x, '%W')).astype('int64')\n",
    "df.drop(['date'], axis =1, inplace= True)\n",
    "df.head()"
   ]
  },
  {
   "cell_type": "code",
   "execution_count": 50,
   "metadata": {},
   "outputs": [
    {
     "data": {
      "text/plain": [
       "time          12\n",
       "away_total    17\n",
       "home_total    19\n",
       "date_new      29\n",
       "dtype: int64"
      ]
     },
     "execution_count": 50,
     "metadata": {},
     "output_type": "execute_result"
    }
   ],
   "source": [
    "#確認int64欄位是否為0/1格式\n",
    "df.select_dtypes(include=[\"int64\"]).apply(pd.Series.nunique, axis = 0)"
   ]
  },
  {
   "cell_type": "code",
   "execution_count": 51,
   "metadata": {},
   "outputs": [
    {
     "name": "stdout",
     "output_type": "stream",
     "text": [
      "(10182, 89)\n"
     ]
    },
    {
     "data": {
      "text/html": [
       "<div>\n",
       "<style scoped>\n",
       "    .dataframe tbody tr th:only-of-type {\n",
       "        vertical-align: middle;\n",
       "    }\n",
       "\n",
       "    .dataframe tbody tr th {\n",
       "        vertical-align: top;\n",
       "    }\n",
       "\n",
       "    .dataframe thead th {\n",
       "        text-align: right;\n",
       "    }\n",
       "</style>\n",
       "<table border=\"1\" class=\"dataframe\">\n",
       "  <thead>\n",
       "    <tr style=\"text-align: right;\">\n",
       "      <th></th>\n",
       "      <th>time</th>\n",
       "      <th>team_home</th>\n",
       "      <th>team_away</th>\n",
       "      <th>home_pitcher</th>\n",
       "      <th>away_batter1</th>\n",
       "      <th>away_batter2</th>\n",
       "      <th>away_batter3</th>\n",
       "      <th>away_batter4</th>\n",
       "      <th>away_batter5</th>\n",
       "      <th>away_batter6</th>\n",
       "      <th>...</th>\n",
       "      <th>team_away_PHI</th>\n",
       "      <th>team_away_PIT</th>\n",
       "      <th>team_away_SD</th>\n",
       "      <th>team_away_SEA</th>\n",
       "      <th>team_away_SF</th>\n",
       "      <th>team_away_STL</th>\n",
       "      <th>team_away_TB</th>\n",
       "      <th>team_away_TEX</th>\n",
       "      <th>team_away_TOR</th>\n",
       "      <th>team_away_WSH</th>\n",
       "    </tr>\n",
       "  </thead>\n",
       "  <tbody>\n",
       "    <tr>\n",
       "      <th>0</th>\n",
       "      <td>19</td>\n",
       "      <td>BAL</td>\n",
       "      <td>KC</td>\n",
       "      <td>4.54</td>\n",
       "      <td>0.133560</td>\n",
       "      <td>0.161712</td>\n",
       "      <td>0.141664</td>\n",
       "      <td>0.162025</td>\n",
       "      <td>0.168400</td>\n",
       "      <td>0.147307</td>\n",
       "      <td>...</td>\n",
       "      <td>0</td>\n",
       "      <td>0</td>\n",
       "      <td>0</td>\n",
       "      <td>0</td>\n",
       "      <td>0</td>\n",
       "      <td>0</td>\n",
       "      <td>0</td>\n",
       "      <td>0</td>\n",
       "      <td>0</td>\n",
       "      <td>0</td>\n",
       "    </tr>\n",
       "    <tr>\n",
       "      <th>1</th>\n",
       "      <td>19</td>\n",
       "      <td>BOS</td>\n",
       "      <td>LAA</td>\n",
       "      <td>4.57</td>\n",
       "      <td>0.128565</td>\n",
       "      <td>0.188355</td>\n",
       "      <td>0.153141</td>\n",
       "      <td>0.234477</td>\n",
       "      <td>0.381657</td>\n",
       "      <td>0.121897</td>\n",
       "      <td>...</td>\n",
       "      <td>0</td>\n",
       "      <td>0</td>\n",
       "      <td>0</td>\n",
       "      <td>0</td>\n",
       "      <td>0</td>\n",
       "      <td>0</td>\n",
       "      <td>0</td>\n",
       "      <td>0</td>\n",
       "      <td>0</td>\n",
       "      <td>0</td>\n",
       "    </tr>\n",
       "    <tr>\n",
       "      <th>2</th>\n",
       "      <td>13</td>\n",
       "      <td>DET</td>\n",
       "      <td>MIN</td>\n",
       "      <td>3.24</td>\n",
       "      <td>0.124847</td>\n",
       "      <td>0.141783</td>\n",
       "      <td>0.148824</td>\n",
       "      <td>0.136840</td>\n",
       "      <td>0.127560</td>\n",
       "      <td>0.158853</td>\n",
       "      <td>...</td>\n",
       "      <td>0</td>\n",
       "      <td>0</td>\n",
       "      <td>0</td>\n",
       "      <td>0</td>\n",
       "      <td>0</td>\n",
       "      <td>0</td>\n",
       "      <td>0</td>\n",
       "      <td>0</td>\n",
       "      <td>0</td>\n",
       "      <td>0</td>\n",
       "    </tr>\n",
       "    <tr>\n",
       "      <th>3</th>\n",
       "      <td>19</td>\n",
       "      <td>CLE</td>\n",
       "      <td>MIN</td>\n",
       "      <td>4.13</td>\n",
       "      <td>0.130816</td>\n",
       "      <td>0.139188</td>\n",
       "      <td>0.179804</td>\n",
       "      <td>0.150747</td>\n",
       "      <td>0.123340</td>\n",
       "      <td>0.155667</td>\n",
       "      <td>...</td>\n",
       "      <td>0</td>\n",
       "      <td>0</td>\n",
       "      <td>0</td>\n",
       "      <td>0</td>\n",
       "      <td>0</td>\n",
       "      <td>0</td>\n",
       "      <td>0</td>\n",
       "      <td>0</td>\n",
       "      <td>0</td>\n",
       "      <td>0</td>\n",
       "    </tr>\n",
       "    <tr>\n",
       "      <th>4</th>\n",
       "      <td>19</td>\n",
       "      <td>CLE</td>\n",
       "      <td>BAL</td>\n",
       "      <td>4.13</td>\n",
       "      <td>0.125488</td>\n",
       "      <td>0.164452</td>\n",
       "      <td>0.188828</td>\n",
       "      <td>0.155944</td>\n",
       "      <td>0.162928</td>\n",
       "      <td>0.131848</td>\n",
       "      <td>...</td>\n",
       "      <td>0</td>\n",
       "      <td>0</td>\n",
       "      <td>0</td>\n",
       "      <td>0</td>\n",
       "      <td>0</td>\n",
       "      <td>0</td>\n",
       "      <td>0</td>\n",
       "      <td>0</td>\n",
       "      <td>0</td>\n",
       "      <td>0</td>\n",
       "    </tr>\n",
       "  </tbody>\n",
       "</table>\n",
       "<p>5 rows × 89 columns</p>\n",
       "</div>"
      ],
      "text/plain": [
       "   time team_home team_away  home_pitcher  away_batter1  away_batter2  \\\n",
       "0    19       BAL        KC          4.54      0.133560      0.161712   \n",
       "1    19       BOS       LAA          4.57      0.128565      0.188355   \n",
       "2    13       DET       MIN          3.24      0.124847      0.141783   \n",
       "3    19       CLE       MIN          4.13      0.130816      0.139188   \n",
       "4    19       CLE       BAL          4.13      0.125488      0.164452   \n",
       "\n",
       "   away_batter3  away_batter4  away_batter5  away_batter6  ...  team_away_PHI  \\\n",
       "0      0.141664      0.162025      0.168400      0.147307  ...              0   \n",
       "1      0.153141      0.234477      0.381657      0.121897  ...              0   \n",
       "2      0.148824      0.136840      0.127560      0.158853  ...              0   \n",
       "3      0.179804      0.150747      0.123340      0.155667  ...              0   \n",
       "4      0.188828      0.155944      0.162928      0.131848  ...              0   \n",
       "\n",
       "   team_away_PIT  team_away_SD  team_away_SEA  team_away_SF  team_away_STL  \\\n",
       "0              0             0              0             0              0   \n",
       "1              0             0              0             0              0   \n",
       "2              0             0              0             0              0   \n",
       "3              0             0              0             0              0   \n",
       "4              0             0              0             0              0   \n",
       "\n",
       "   team_away_TB  team_away_TEX  team_away_TOR  team_away_WSH  \n",
       "0             0              0              0              0  \n",
       "1             0              0              0              0  \n",
       "2             0              0              0              0  \n",
       "3             0              0              0              0  \n",
       "4             0              0              0              0  \n",
       "\n",
       "[5 rows x 89 columns]"
      ]
     },
     "execution_count": 51,
     "metadata": {},
     "output_type": "execute_result"
    }
   ],
   "source": [
    "#將隊伍進行OneHot encoding\n",
    "df= df.join(pd.get_dummies(df[['team_home', 'team_away']]))\n",
    "print(df.shape)\n",
    "df.head()"
   ]
  },
  {
   "cell_type": "code",
   "execution_count": 52,
   "metadata": {},
   "outputs": [
    {
     "data": {
      "text/plain": [
       "(10182, 87)"
      ]
     },
     "execution_count": 52,
     "metadata": {},
     "output_type": "execute_result"
    }
   ],
   "source": [
    "#捨棄原本文字版的隊伍欄\n",
    "df.drop(['team_home', 'team_away'], axis= 1, inplace= True)\n",
    "df.shape"
   ]
  },
  {
   "cell_type": "code",
   "execution_count": 53,
   "metadata": {},
   "outputs": [
    {
     "data": {
      "text/html": [
       "<div>\n",
       "<style scoped>\n",
       "    .dataframe tbody tr th:only-of-type {\n",
       "        vertical-align: middle;\n",
       "    }\n",
       "\n",
       "    .dataframe tbody tr th {\n",
       "        vertical-align: top;\n",
       "    }\n",
       "\n",
       "    .dataframe thead th {\n",
       "        text-align: right;\n",
       "    }\n",
       "</style>\n",
       "<table border=\"1\" class=\"dataframe\">\n",
       "  <thead>\n",
       "    <tr style=\"text-align: right;\">\n",
       "      <th></th>\n",
       "      <th>time</th>\n",
       "      <th>home_pitcher</th>\n",
       "      <th>away_batter1</th>\n",
       "      <th>away_batter2</th>\n",
       "      <th>away_batter3</th>\n",
       "      <th>away_batter4</th>\n",
       "      <th>away_batter5</th>\n",
       "      <th>away_batter6</th>\n",
       "      <th>away_batter7</th>\n",
       "      <th>away_batter8</th>\n",
       "      <th>...</th>\n",
       "      <th>team_away_PHI</th>\n",
       "      <th>team_away_PIT</th>\n",
       "      <th>team_away_SD</th>\n",
       "      <th>team_away_SEA</th>\n",
       "      <th>team_away_SF</th>\n",
       "      <th>team_away_STL</th>\n",
       "      <th>team_away_TB</th>\n",
       "      <th>team_away_TEX</th>\n",
       "      <th>team_away_TOR</th>\n",
       "      <th>team_away_WSH</th>\n",
       "    </tr>\n",
       "  </thead>\n",
       "  <tbody>\n",
       "    <tr>\n",
       "      <th>0</th>\n",
       "      <td>19</td>\n",
       "      <td>4.54</td>\n",
       "      <td>0.133560</td>\n",
       "      <td>0.161712</td>\n",
       "      <td>0.141664</td>\n",
       "      <td>0.162025</td>\n",
       "      <td>0.168400</td>\n",
       "      <td>0.147307</td>\n",
       "      <td>0.147126</td>\n",
       "      <td>0.162019</td>\n",
       "      <td>...</td>\n",
       "      <td>0</td>\n",
       "      <td>0</td>\n",
       "      <td>0</td>\n",
       "      <td>0</td>\n",
       "      <td>0</td>\n",
       "      <td>0</td>\n",
       "      <td>0</td>\n",
       "      <td>0</td>\n",
       "      <td>0</td>\n",
       "      <td>0</td>\n",
       "    </tr>\n",
       "    <tr>\n",
       "      <th>1</th>\n",
       "      <td>19</td>\n",
       "      <td>4.57</td>\n",
       "      <td>0.128565</td>\n",
       "      <td>0.188355</td>\n",
       "      <td>0.153141</td>\n",
       "      <td>0.234477</td>\n",
       "      <td>0.381657</td>\n",
       "      <td>0.121897</td>\n",
       "      <td>0.148551</td>\n",
       "      <td>0.139788</td>\n",
       "      <td>...</td>\n",
       "      <td>0</td>\n",
       "      <td>0</td>\n",
       "      <td>0</td>\n",
       "      <td>0</td>\n",
       "      <td>0</td>\n",
       "      <td>0</td>\n",
       "      <td>0</td>\n",
       "      <td>0</td>\n",
       "      <td>0</td>\n",
       "      <td>0</td>\n",
       "    </tr>\n",
       "    <tr>\n",
       "      <th>2</th>\n",
       "      <td>13</td>\n",
       "      <td>3.24</td>\n",
       "      <td>0.124847</td>\n",
       "      <td>0.141783</td>\n",
       "      <td>0.148824</td>\n",
       "      <td>0.136840</td>\n",
       "      <td>0.127560</td>\n",
       "      <td>0.158853</td>\n",
       "      <td>0.138554</td>\n",
       "      <td>0.119803</td>\n",
       "      <td>...</td>\n",
       "      <td>0</td>\n",
       "      <td>0</td>\n",
       "      <td>0</td>\n",
       "      <td>0</td>\n",
       "      <td>0</td>\n",
       "      <td>0</td>\n",
       "      <td>0</td>\n",
       "      <td>0</td>\n",
       "      <td>0</td>\n",
       "      <td>0</td>\n",
       "    </tr>\n",
       "    <tr>\n",
       "      <th>3</th>\n",
       "      <td>19</td>\n",
       "      <td>4.13</td>\n",
       "      <td>0.130816</td>\n",
       "      <td>0.139188</td>\n",
       "      <td>0.179804</td>\n",
       "      <td>0.150747</td>\n",
       "      <td>0.123340</td>\n",
       "      <td>0.155667</td>\n",
       "      <td>0.126471</td>\n",
       "      <td>0.153613</td>\n",
       "      <td>...</td>\n",
       "      <td>0</td>\n",
       "      <td>0</td>\n",
       "      <td>0</td>\n",
       "      <td>0</td>\n",
       "      <td>0</td>\n",
       "      <td>0</td>\n",
       "      <td>0</td>\n",
       "      <td>0</td>\n",
       "      <td>0</td>\n",
       "      <td>0</td>\n",
       "    </tr>\n",
       "    <tr>\n",
       "      <th>4</th>\n",
       "      <td>19</td>\n",
       "      <td>4.13</td>\n",
       "      <td>0.125488</td>\n",
       "      <td>0.164452</td>\n",
       "      <td>0.188828</td>\n",
       "      <td>0.155944</td>\n",
       "      <td>0.162928</td>\n",
       "      <td>0.131848</td>\n",
       "      <td>0.146802</td>\n",
       "      <td>0.115407</td>\n",
       "      <td>...</td>\n",
       "      <td>0</td>\n",
       "      <td>0</td>\n",
       "      <td>0</td>\n",
       "      <td>0</td>\n",
       "      <td>0</td>\n",
       "      <td>0</td>\n",
       "      <td>0</td>\n",
       "      <td>0</td>\n",
       "      <td>0</td>\n",
       "      <td>0</td>\n",
       "    </tr>\n",
       "  </tbody>\n",
       "</table>\n",
       "<p>5 rows × 81 columns</p>\n",
       "</div>"
      ],
      "text/plain": [
       "   time  home_pitcher  away_batter1  away_batter2  away_batter3  away_batter4  \\\n",
       "0    19          4.54      0.133560      0.161712      0.141664      0.162025   \n",
       "1    19          4.57      0.128565      0.188355      0.153141      0.234477   \n",
       "2    13          3.24      0.124847      0.141783      0.148824      0.136840   \n",
       "3    19          4.13      0.130816      0.139188      0.179804      0.150747   \n",
       "4    19          4.13      0.125488      0.164452      0.188828      0.155944   \n",
       "\n",
       "   away_batter5  away_batter6  away_batter7  away_batter8  ...  team_away_PHI  \\\n",
       "0      0.168400      0.147307      0.147126      0.162019  ...              0   \n",
       "1      0.381657      0.121897      0.148551      0.139788  ...              0   \n",
       "2      0.127560      0.158853      0.138554      0.119803  ...              0   \n",
       "3      0.123340      0.155667      0.126471      0.153613  ...              0   \n",
       "4      0.162928      0.131848      0.146802      0.115407  ...              0   \n",
       "\n",
       "   team_away_PIT  team_away_SD  team_away_SEA  team_away_SF  team_away_STL  \\\n",
       "0              0             0              0             0              0   \n",
       "1              0             0              0             0              0   \n",
       "2              0             0              0             0              0   \n",
       "3              0             0              0             0              0   \n",
       "4              0             0              0             0              0   \n",
       "\n",
       "   team_away_TB  team_away_TEX  team_away_TOR  team_away_WSH  \n",
       "0             0              0              0              0  \n",
       "1             0              0              0              0  \n",
       "2             0              0              0              0  \n",
       "3             0              0              0              0  \n",
       "4             0              0              0              0  \n",
       "\n",
       "[5 rows x 81 columns]"
      ]
     },
     "execution_count": 53,
     "metadata": {},
     "output_type": "execute_result"
    }
   ],
   "source": [
    "train_y = df['result']\n",
    "#接結果切出、捨棄賽果\n",
    "df.drop(['result','total_score','over','under','away_total','home_total'], axis =1, inplace= True)\n",
    "df.head()"
   ]
  },
  {
   "cell_type": "code",
   "execution_count": 54,
   "metadata": {},
   "outputs": [
    {
     "data": {
      "text/plain": [
       "0    over\n",
       "1    over\n",
       "2    over\n",
       "3    over\n",
       "4    over\n",
       "Name: result, dtype: object"
      ]
     },
     "execution_count": 54,
     "metadata": {},
     "output_type": "execute_result"
    }
   ],
   "source": [
    "train_y.head()"
   ]
  },
  {
   "cell_type": "code",
   "execution_count": 55,
   "metadata": {},
   "outputs": [
    {
     "name": "stdout",
     "output_type": "stream",
     "text": [
      "['home_pitcher', 'away_batter1', 'away_batter2', 'away_batter3', 'away_batter4', 'away_batter5', 'away_batter6', 'away_batter7', 'away_batter8', 'away_batter9', 'away_pitcher', 'home_batter1', 'home_batter2', 'home_batter3', 'home_batter4', 'home_batter5', 'home_batter6', 'home_batter7', 'home_batter8', 'home_batter9', 'yard_wOBA', 'umpire_K/BB', 'date_new']\n"
     ]
    }
   ],
   "source": [
    "#抓取所有數值格式欄位\n",
    "features=[]\n",
    "for dtype, feature in zip(df.dtypes, df.columns):\n",
    "    if dtype == 'float64' or dtype =='int64':\n",
    "        if df[feature].nunique != 2 and feature != 'time' and feature !='total':\n",
    "            features.append(feature)\n",
    "print(features)                "
   ]
  },
  {
   "cell_type": "code",
   "execution_count": 56,
   "metadata": {},
   "outputs": [
    {
     "data": {
      "image/png": "[encoded data removed]",
      "text/plain": [
       "<Figure size 432x288 with 1 Axes>"
      ]
     },
     "metadata": {
      "needs_background": "light"
     },
     "output_type": "display_data"
    },
    {
     "data": {
      "image/png": "[encoded data removed]",
      "text/plain": [
       "<Figure size 432x288 with 1 Axes>"
      ]
     },
     "metadata": {
      "needs_background": "light"
     },
     "output_type": "display_data"
    },
    {
     "data": {
      "image/png": "[encoded data removed]",
      "text/plain": [
       "<Figure size 432x288 with 1 Axes>"
      ]
     },
     "metadata": {
      "needs_background": "light"
     },
     "output_type": "display_data"
    },
    {
     "data": {
      "image/png": "[encoded data removed]",
      "text/plain": [
       "<Figure size 432x288 with 1 Axes>"
      ]
     },
     "metadata": {
      "needs_background": "light"
     },
     "output_type": "display_data"
    },
    {
     "data": {
      "image/png": "[encoded data removed]",
      "text/plain": [
       "<Figure size 432x288 with 1 Axes>"
      ]
     },
     "metadata": {
      "needs_background": "light"
     },
     "output_type": "display_data"
    },
    {
     "data": {
      "image/png": "[encoded data removed]",
      "text/plain": [
       "<Figure size 432x288 with 1 Axes>"
      ]
     },
     "metadata": {
      "needs_background": "light"
     },
     "output_type": "display_data"
    },
    {
     "data": {
      "image/png": "[encoded data removed]",
      "text/plain": [
       "<Figure size 432x288 with 1 Axes>"
      ]
     },
     "metadata": {
      "needs_background": "light"
     },
     "output_type": "display_data"
    },
    {
     "data": {
      "image/png": "[encoded data removed]",
      "text/plain": [
       "<Figure size 432x288 with 1 Axes>"
      ]
     },
     "metadata": {
      "needs_background": "light"
     },
     "output_type": "display_data"
    },
    {
     "data": {
      "image/png": "[encoded data removed]",
      "text/plain": [
       "<Figure size 432x288 with 1 Axes>"
      ]
     },
     "metadata": {
      "needs_background": "light"
     },
     "output_type": "display_data"
    },
    {
     "data": {
      "image/png": "[encoded data removed]",
      "text/plain": [
       "<Figure size 432x288 with 1 Axes>"
      ]
     },
     "metadata": {
      "needs_background": "light"
     },
     "output_type": "display_data"
    },
    {
     "data": {
      "image/png": "[encoded data removed]",
      "text/plain": [
       "<Figure size 432x288 with 1 Axes>"
      ]
     },
     "metadata": {
      "needs_background": "light"
     },
     "output_type": "display_data"
    },
    {
     "data": {
      "image/png": "[encoded data removed]",
      "text/plain": [
       "<Figure size 432x288 with 1 Axes>"
      ]
     },
     "metadata": {
      "needs_background": "light"
     },
     "output_type": "display_data"
    },
    {
     "data": {
      "image/png": "[encoded data removed]",
      "text/plain": [
       "<Figure size 432x288 with 1 Axes>"
      ]
     },
     "metadata": {
      "needs_background": "light"
     },
     "output_type": "display_data"
    },
    {
     "data": {
      "image/png": "[encoded data removed]",
      "text/plain": [
       "<Figure size 432x288 with 1 Axes>"
      ]
     },
     "metadata": {
      "needs_background": "light"
     },
     "output_type": "display_data"
    },
    {
     "data": {
      "image/png": "[encoded data removed]",
      "text/plain": [
       "<Figure size 432x288 with 1 Axes>"
      ]
     },
     "metadata": {
      "needs_background": "light"
     },
     "output_type": "display_data"
    },
    {
     "data": {
      "image/png": "[encoded data removed]",
      "text/plain": [
       "<Figure size 432x288 with 1 Axes>"
      ]
     },
     "metadata": {
      "needs_background": "light"
     },
     "output_type": "display_data"
    },
    {
     "data": {
      "image/png": "[encoded data removed]",
      "text/plain": [
       "<Figure size 432x288 with 1 Axes>"
      ]
     },
     "metadata": {
      "needs_background": "light"
     },
     "output_type": "display_data"
    },
    {
     "data": {
      "image/png": "[encoded data removed]",
      "text/plain": [
       "<Figure size 432x288 with 1 Axes>"
      ]
     },
     "metadata": {
      "needs_background": "light"
     },
     "output_type": "display_data"
    },
    {
     "data": {
      "image/png": "[encoded data removed]",
      "text/plain": [
       "<Figure size 432x288 with 1 Axes>"
      ]
     },
     "metadata": {
      "needs_background": "light"
     },
     "output_type": "display_data"
    },
    {
     "data": {
      "image/png": "[encoded data removed]",
      "text/plain": [
       "<Figure size 432x288 with 1 Axes>"
      ]
     },
     "metadata": {
      "needs_background": "light"
     },
     "output_type": "display_data"
    },
    {
     "data": {
      "image/png": "[encoded data removed]",
      "text/plain": [
       "<Figure size 432x288 with 1 Axes>"
      ]
     },
     "metadata": {
      "needs_background": "light"
     },
     "output_type": "display_data"
    },
    {
     "data": {
      "image/png": "[encoded data removed]",
      "text/plain": [
       "<Figure size 432x288 with 1 Axes>"
      ]
     },
     "metadata": {
      "needs_background": "light"
     },
     "output_type": "display_data"
    },
    {
     "data": {
      "image/png": "[encoded data removed]",
      "text/plain": [
       "<Figure size 432x288 with 1 Axes>"
      ]
     },
     "metadata": {
      "needs_background": "light"
     },
     "output_type": "display_data"
    }
   ],
   "source": [
    "#盒鬚圖確認有無離群值\n",
    "import matplotlib.pyplot as plt\n",
    "for col in features:\n",
    "    df.boxplot(col)\n",
    "    plt.show()"
   ]
  },
  {
   "cell_type": "code",
   "execution_count": 57,
   "metadata": {},
   "outputs": [
    {
     "name": "stderr",
     "output_type": "stream",
     "text": [
      "C:\\ProgramData\\Anaconda3\\lib\\site-packages\\pandas\\core\\indexing.py:671: SettingWithCopyWarning: \n",
      "A value is trying to be set on a copy of a slice from a DataFrame\n",
      "\n",
      "See the caveats in the documentation: https://pandas.pydata.org/pandas-docs/stable/user_guide/indexing.html#returning-a-view-versus-a-copy\n",
      "  self._setitem_with_indexer(indexer, value)\n"
     ]
    }
   ],
   "source": [
    "#去除偏態(嘗試用Q01，Q99來代替離群值）\n",
    "for i in features:\n",
    "    Q01 = np.percentile(df[i], 1)\n",
    "    Q99 = np.percentile(df[i], 99)\n",
    "    # 替换异常值为指定的分位数\n",
    "    if Q01 > df[i].min():\n",
    "        df[i].loc[df[i] < Q01] = Q01\n",
    "    if Q99 < df[i].max():\n",
    "        df[i].loc[df[i] > Q99] = Q99"
   ]
  },
  {
   "cell_type": "code",
   "execution_count": 58,
   "metadata": {},
   "outputs": [
    {
     "name": "stdout",
     "output_type": "stream",
     "text": [
      "under\n"
     ]
    }
   ],
   "source": [
    "train_y\n",
    "print(train_y[len(train_y)-1])"
   ]
  },
  {
   "cell_type": "code",
   "execution_count": 73,
   "metadata": {},
   "outputs": [
    {
     "name": "stderr",
     "output_type": "stream",
     "text": [
      "C:\\ProgramData\\Anaconda3\\lib\\site-packages\\ipykernel_launcher.py:7: SettingWithCopyWarning: \n",
      "A value is trying to be set on a copy of a slice from a DataFrame\n",
      "\n",
      "See the caveats in the documentation: https://pandas.pydata.org/pandas-docs/stable/user_guide/indexing.html#returning-a-view-versus-a-copy\n",
      "  import sys\n"
     ]
    },
    {
     "data": {
      "text/plain": [
       "0        2\n",
       "1        2\n",
       "2        2\n",
       "3        2\n",
       "4        2\n",
       "        ..\n",
       "10177    0\n",
       "10178    2\n",
       "10179    2\n",
       "10180    0\n",
       "10181    0\n",
       "Name: result, Length: 10182, dtype: object"
      ]
     },
     "execution_count": 73,
     "metadata": {},
     "output_type": "execute_result"
    }
   ],
   "source": [
    "#調整Y\n",
    "def y_trans(y):\n",
    "    for i in range(len(y)):\n",
    "        if y[i] == 'over':\n",
    "            y[i] = 2\n",
    "        elif y[i] == 'tie':\n",
    "            y[i] = 1\n",
    "        elif y[i] == 'under':\n",
    "            y[i] = 0\n",
    "        else:\n",
    "            pass\n",
    "y_trans(train_y)\n",
    "train_y"
   ]
  },
  {
   "cell_type": "code",
   "execution_count": 74,
   "metadata": {},
   "outputs": [],
   "source": [
    "import keras\n",
    "def preproc_y(y, num_classes=3):\n",
    "    y = keras.utils.to_categorical(y, num_classes)\n",
    "    return y    "
   ]
  },
  {
   "cell_type": "code",
   "execution_count": 87,
   "metadata": {},
   "outputs": [
    {
     "data": {
      "text/plain": [
       "Index(['time', 'home_pitcher', 'away_batter1', 'away_batter2', 'away_batter3',\n",
       "       'away_batter4', 'away_batter5', 'away_batter6', 'away_batter7',\n",
       "       'away_batter8', 'away_batter9', 'away_pitcher', 'home_batter1',\n",
       "       'home_batter2', 'home_batter3', 'home_batter4', 'home_batter5',\n",
       "       'home_batter6', 'home_batter7', 'home_batter8', 'home_batter9',\n",
       "       'yard_wOBA', 'umpire_K/BB', 'total', 'date_new', 'team_home_ARI',\n",
       "       'team_home_ATL', 'team_home_BAL', 'team_home_BOS', 'team_home_CHC',\n",
       "       'team_home_CIN', 'team_home_CLE', 'team_home_COL', 'team_home_CWS',\n",
       "       'team_home_DET', 'team_home_HOU', 'team_home_KC', 'team_home_LAD',\n",
       "       'team_home_MIA', 'team_home_MIL', 'team_home_MIN', 'team_home_NYM',\n",
       "       'team_home_PHI', 'team_home_PIT', 'team_home_SD', 'team_home_SEA',\n",
       "       'team_home_SF', 'team_home_TB', 'team_home_TEX', 'team_home_TOR',\n",
       "       'team_home_WSH', 'team_away_ARI', 'team_away_ATL', 'team_away_BAL',\n",
       "       'team_away_BOS', 'team_away_CHC', 'team_away_CIN', 'team_away_CLE',\n",
       "       'team_away_COL', 'team_away_CWS', 'team_away_DET', 'team_away_HOU',\n",
       "       'team_away_KC', 'team_away_LAA', 'team_away_LAD', 'team_away_MIA',\n",
       "       'team_away_MIL', 'team_away_MIN', 'team_away_NYM', 'team_away_NYY',\n",
       "       'team_away_OAK', 'team_away_PHI', 'team_away_PIT', 'team_away_SD',\n",
       "       'team_away_SEA', 'team_away_SF', 'team_away_STL', 'team_away_TB',\n",
       "       'team_away_TEX', 'team_away_TOR', 'team_away_WSH', 'result'],\n",
       "      dtype='object')"
      ]
     },
     "execution_count": 87,
     "metadata": {},
     "output_type": "execute_result"
    }
   ],
   "source": [
    "train_x = df\n",
    "train_x.columns"
   ]
  },
  {
   "cell_type": "code",
   "execution_count": 76,
   "metadata": {},
   "outputs": [],
   "source": [
    "from sklearn.model_selection import train_test_split\n",
    "X_train, X_test, Y_train, Y_test = train_test_split(train_x, train_y, test_size = 0.25, random_state=666)"
   ]
  },
  {
   "cell_type": "code",
   "execution_count": 77,
   "metadata": {},
   "outputs": [],
   "source": [
    "Y_train = preproc_y(Y_train)\n",
    "Y_test = preproc_y(Y_test)"
   ]
  },
  {
   "cell_type": "code",
   "execution_count": 80,
   "metadata": {},
   "outputs": [
    {
     "data": {
      "text/plain": [
       "array([[0., 0., 1.],\n",
       "       [0., 0., 1.],\n",
       "       [0., 0., 1.],\n",
       "       ...,\n",
       "       [1., 0., 0.],\n",
       "       [1., 0., 0.],\n",
       "       [0., 0., 1.]], dtype=float32)"
      ]
     },
     "execution_count": 80,
     "metadata": {},
     "output_type": "execute_result"
    }
   ],
   "source": [
    "Y_train"
   ]
  },
  {
   "cell_type": "code",
   "execution_count": 81,
   "metadata": {},
   "outputs": [],
   "source": [
    "from keras.layers import BatchNormalization\n",
    "def build_mlp(input_shape, output_units=3, num_neurons=[300, 300, 300]):\n",
    "    input_layer= keras.layers.Input(input_shape)\n",
    "    for i, n_units in enumerate(num_neurons):\n",
    "        if i == 0:\n",
    "            x= keras.layers.Dense(units=n_units,\n",
    "                                  activation='relu',\n",
    "                                  name='hidden_layer'+str(i+1))(input_layer)\n",
    "            x= BatchNormalization()(x)\n",
    "        else:\n",
    "            x= keras.layers.Dense(units=n_units,\n",
    "                                  activation='relu',\n",
    "                                  name='hidden_layer'+str(i+1))(x)\n",
    "            x= BatchNormalization()(x)\n",
    "    out= keras.layers.Dense(units=output_units, activation= 'softmax', name= 'output_layer')(x)\n",
    "    model= keras.models.Model(inputs=[input_layer], outputs=[out])\n",
    "    return model"
   ]
  },
  {
   "cell_type": "code",
   "execution_count": 89,
   "metadata": {},
   "outputs": [],
   "source": [
    "## 超參數設定\n",
    "Learning_Rate = 1e-3\n",
    "Epochs = 100\n",
    "Batch_size = 1024\n",
    "MOMENTUM = 0.95"
   ]
  },
  {
   "cell_type": "code",
   "execution_count": 90,
   "metadata": {},
   "outputs": [
    {
     "name": "stdout",
     "output_type": "stream",
     "text": [
      "Model: \"model_1\"\n",
      "_________________________________________________________________\n",
      "Layer (type)                 Output Shape              Param #   \n",
      "=================================================================\n",
      "input_1 (InputLayer)         (None, 82)                0         \n",
      "_________________________________________________________________\n",
      "hidden_layer1 (Dense)        (None, 300)               24900     \n",
      "_________________________________________________________________\n",
      "batch_normalization_1 (Batch (None, 300)               1200      \n",
      "_________________________________________________________________\n",
      "hidden_layer2 (Dense)        (None, 300)               90300     \n",
      "_________________________________________________________________\n",
      "batch_normalization_2 (Batch (None, 300)               1200      \n",
      "_________________________________________________________________\n",
      "hidden_layer3 (Dense)        (None, 300)               90300     \n",
      "_________________________________________________________________\n",
      "batch_normalization_3 (Batch (None, 300)               1200      \n",
      "_________________________________________________________________\n",
      "output_layer (Dense)         (None, 3)                 903       \n",
      "=================================================================\n",
      "Total params: 210,003\n",
      "Trainable params: 208,203\n",
      "Non-trainable params: 1,800\n",
      "_________________________________________________________________\n",
      "Train on 7636 samples, validate on 2546 samples\n",
      "Epoch 1/100\n",
      "7636/7636 [==============================] - 0s 59us/step - loss: 0.4401 - accuracy: 0.8216 - val_loss: 0.6904 - val_accuracy: 0.5357\n",
      "Epoch 2/100\n",
      "7636/7636 [==============================] - 0s 13us/step - loss: 0.0761 - accuracy: 0.9660 - val_loss: 0.5533 - val_accuracy: 0.8295\n",
      "Epoch 3/100\n",
      "7636/7636 [==============================] - 0s 18us/step - loss: 0.0319 - accuracy: 0.9910 - val_loss: 0.5087 - val_accuracy: 0.8621\n",
      "Epoch 4/100\n",
      "7636/7636 [==============================] - 0s 13us/step - loss: 0.0109 - accuracy: 0.9988 - val_loss: 0.3942 - val_accuracy: 0.9485\n",
      "Epoch 5/100\n",
      "7636/7636 [==============================] - 0s 13us/step - loss: 0.0047 - accuracy: 0.9999 - val_loss: 0.3985 - val_accuracy: 0.9423\n",
      "Epoch 6/100\n",
      "7636/7636 [==============================] - 0s 13us/step - loss: 0.0025 - accuracy: 1.0000 - val_loss: 0.3810 - val_accuracy: 0.9478\n",
      "Epoch 7/100\n",
      "7636/7636 [==============================] - 0s 13us/step - loss: 0.0015 - accuracy: 1.0000 - val_loss: 0.3317 - val_accuracy: 0.9513\n",
      "Epoch 8/100\n",
      "7636/7636 [==============================] - 0s 13us/step - loss: 0.0013 - accuracy: 1.0000 - val_loss: 0.3338 - val_accuracy: 0.9513\n",
      "Epoch 9/100\n",
      "7636/7636 [==============================] - 0s 13us/step - loss: 9.1468e-04 - accuracy: 1.0000 - val_loss: 0.3741 - val_accuracy: 0.9258\n",
      "Epoch 10/100\n",
      "7636/7636 [==============================] - 0s 13us/step - loss: 7.8690e-04 - accuracy: 1.0000 - val_loss: 0.3802 - val_accuracy: 0.8908\n",
      "Epoch 11/100\n",
      "7636/7636 [==============================] - 0s 13us/step - loss: 6.2718e-04 - accuracy: 1.0000 - val_loss: 0.3860 - val_accuracy: 0.8515\n",
      "Epoch 12/100\n",
      "7636/7636 [==============================] - 0s 13us/step - loss: 6.1552e-04 - accuracy: 1.0000 - val_loss: 0.4105 - val_accuracy: 0.7824\n",
      "Epoch 13/100\n",
      "7636/7636 [==============================] - 0s 13us/step - loss: 4.7147e-04 - accuracy: 1.0000 - val_loss: 0.4531 - val_accuracy: 0.6960\n",
      "Epoch 14/100\n",
      "7636/7636 [==============================] - 0s 13us/step - loss: 4.4571e-04 - accuracy: 1.0000 - val_loss: 0.4634 - val_accuracy: 0.6909\n",
      "Epoch 15/100\n",
      "7636/7636 [==============================] - 0s 13us/step - loss: 4.3504e-04 - accuracy: 1.0000 - val_loss: 0.4536 - val_accuracy: 0.7113\n",
      "Epoch 16/100\n",
      "7636/7636 [==============================] - 0s 13us/step - loss: 4.0537e-04 - accuracy: 1.0000 - val_loss: 0.4579 - val_accuracy: 0.7015\n",
      "Epoch 17/100\n",
      "7636/7636 [==============================] - 0s 13us/step - loss: 3.5373e-04 - accuracy: 1.0000 - val_loss: 0.4586 - val_accuracy: 0.7007\n",
      "Epoch 18/100\n",
      "7636/7636 [==============================] - 0s 13us/step - loss: 3.3361e-04 - accuracy: 1.0000 - val_loss: 0.4529 - val_accuracy: 0.7054\n",
      "Epoch 19/100\n",
      "7636/7636 [==============================] - 0s 13us/step - loss: 3.0058e-04 - accuracy: 1.0000 - val_loss: 0.4324 - val_accuracy: 0.7258\n",
      "Epoch 20/100\n",
      "7636/7636 [==============================] - 0s 13us/step - loss: 2.8274e-04 - accuracy: 1.0000 - val_loss: 0.4136 - val_accuracy: 0.7361\n",
      "Epoch 21/100\n",
      "7636/7636 [==============================] - 0s 13us/step - loss: 2.6871e-04 - accuracy: 1.0000 - val_loss: 0.3911 - val_accuracy: 0.7522\n",
      "Epoch 22/100\n",
      "7636/7636 [==============================] - 0s 13us/step - loss: 2.3783e-04 - accuracy: 1.0000 - val_loss: 0.3583 - val_accuracy: 0.7812\n",
      "Epoch 23/100\n",
      "7636/7636 [==============================] - 0s 13us/step - loss: 2.2704e-04 - accuracy: 1.0000 - val_loss: 0.3245 - val_accuracy: 0.8130\n",
      "Epoch 24/100\n",
      "7636/7636 [==============================] - 0s 13us/step - loss: 2.4290e-04 - accuracy: 1.0000 - val_loss: 0.2885 - val_accuracy: 0.8504\n",
      "Epoch 25/100\n",
      "7636/7636 [==============================] - 0s 13us/step - loss: 2.2894e-04 - accuracy: 1.0000 - val_loss: 0.2563 - val_accuracy: 0.8798\n",
      "Epoch 26/100\n",
      "7636/7636 [==============================] - 0s 16us/step - loss: 2.1162e-04 - accuracy: 1.0000 - val_loss: 0.2330 - val_accuracy: 0.8963\n",
      "Epoch 27/100\n",
      "7636/7636 [==============================] - 0s 13us/step - loss: 2.0497e-04 - accuracy: 1.0000 - val_loss: 0.2074 - val_accuracy: 0.9152\n",
      "Epoch 28/100\n",
      "7636/7636 [==============================] - 0s 13us/step - loss: 1.8790e-04 - accuracy: 1.0000 - val_loss: 0.1717 - val_accuracy: 0.9478\n",
      "Epoch 29/100\n",
      "7636/7636 [==============================] - 0s 13us/step - loss: 1.7158e-04 - accuracy: 1.0000 - val_loss: 0.1413 - val_accuracy: 0.9690\n",
      "Epoch 30/100\n",
      "7636/7636 [==============================] - 0s 13us/step - loss: 1.7697e-04 - accuracy: 1.0000 - val_loss: 0.1150 - val_accuracy: 0.9839\n",
      "Epoch 31/100\n",
      "7636/7636 [==============================] - 0s 13us/step - loss: 1.6121e-04 - accuracy: 1.0000 - val_loss: 0.0922 - val_accuracy: 0.9898\n",
      "Epoch 32/100\n",
      "7636/7636 [==============================] - 0s 13us/step - loss: 1.5235e-04 - accuracy: 1.0000 - val_loss: 0.0741 - val_accuracy: 0.9953\n",
      "Epoch 33/100\n",
      "7636/7636 [==============================] - 0s 13us/step - loss: 1.5057e-04 - accuracy: 1.0000 - val_loss: 0.0594 - val_accuracy: 0.9984\n",
      "Epoch 34/100\n",
      "7636/7636 [==============================] - 0s 13us/step - loss: 1.4866e-04 - accuracy: 1.0000 - val_loss: 0.0457 - val_accuracy: 0.9988\n",
      "Epoch 35/100\n",
      "7636/7636 [==============================] - 0s 13us/step - loss: 1.3989e-04 - accuracy: 1.0000 - val_loss: 0.0353 - val_accuracy: 0.9992\n",
      "Epoch 36/100\n",
      "7636/7636 [==============================] - 0s 13us/step - loss: 1.3806e-04 - accuracy: 1.0000 - val_loss: 0.0277 - val_accuracy: 0.9992\n",
      "Epoch 37/100\n",
      "7636/7636 [==============================] - 0s 13us/step - loss: 1.2850e-04 - accuracy: 1.0000 - val_loss: 0.0216 - val_accuracy: 1.0000\n",
      "Epoch 38/100\n",
      "7636/7636 [==============================] - 0s 13us/step - loss: 1.3754e-04 - accuracy: 1.0000 - val_loss: 0.0173 - val_accuracy: 1.0000\n",
      "Epoch 39/100\n",
      "7636/7636 [==============================] - 0s 13us/step - loss: 1.1498e-04 - accuracy: 1.0000 - val_loss: 0.0133 - val_accuracy: 1.0000\n",
      "Epoch 40/100\n",
      "7636/7636 [==============================] - 0s 13us/step - loss: 1.1543e-04 - accuracy: 1.0000 - val_loss: 0.0104 - val_accuracy: 1.0000\n",
      "Epoch 41/100\n",
      "7636/7636 [==============================] - 0s 13us/step - loss: 1.2740e-04 - accuracy: 1.0000 - val_loss: 0.0080 - val_accuracy: 1.0000\n",
      "Epoch 42/100\n",
      "7636/7636 [==============================] - 0s 14us/step - loss: 1.0614e-04 - accuracy: 1.0000 - val_loss: 0.0061 - val_accuracy: 1.0000\n",
      "Epoch 43/100\n",
      "7636/7636 [==============================] - 0s 13us/step - loss: 9.8906e-05 - accuracy: 1.0000 - val_loss: 0.0048 - val_accuracy: 1.0000\n",
      "Epoch 44/100\n",
      "7636/7636 [==============================] - 0s 13us/step - loss: 1.0451e-04 - accuracy: 1.0000 - val_loss: 0.0037 - val_accuracy: 1.0000\n",
      "Epoch 45/100\n",
      "7636/7636 [==============================] - 0s 13us/step - loss: 9.8090e-05 - accuracy: 1.0000 - val_loss: 0.0028 - val_accuracy: 1.0000\n"
     ]
    },
    {
     "name": "stdout",
     "output_type": "stream",
     "text": [
      "Epoch 46/100\n",
      "7636/7636 [==============================] - 0s 13us/step - loss: 9.9420e-05 - accuracy: 1.0000 - val_loss: 0.0022 - val_accuracy: 1.0000\n",
      "Epoch 47/100\n",
      "7636/7636 [==============================] - 0s 13us/step - loss: 9.8831e-05 - accuracy: 1.0000 - val_loss: 0.0018 - val_accuracy: 1.0000\n",
      "Epoch 48/100\n",
      "7636/7636 [==============================] - 0s 13us/step - loss: 8.4985e-05 - accuracy: 1.0000 - val_loss: 0.0014 - val_accuracy: 1.0000\n",
      "Epoch 49/100\n",
      "7636/7636 [==============================] - 0s 13us/step - loss: 8.7498e-05 - accuracy: 1.0000 - val_loss: 0.0012 - val_accuracy: 1.0000\n",
      "Epoch 50/100\n",
      "7636/7636 [==============================] - 0s 13us/step - loss: 7.7517e-05 - accuracy: 1.0000 - val_loss: 9.3855e-04 - val_accuracy: 1.0000\n",
      "Epoch 51/100\n",
      "7636/7636 [==============================] - 0s 13us/step - loss: 7.8181e-05 - accuracy: 1.0000 - val_loss: 7.7387e-04 - val_accuracy: 1.0000\n",
      "Epoch 52/100\n",
      "7636/7636 [==============================] - 0s 13us/step - loss: 7.8406e-05 - accuracy: 1.0000 - val_loss: 6.4522e-04 - val_accuracy: 1.0000\n",
      "Epoch 53/100\n",
      "7636/7636 [==============================] - 0s 13us/step - loss: 7.2126e-05 - accuracy: 1.0000 - val_loss: 5.4182e-04 - val_accuracy: 1.0000\n",
      "Epoch 54/100\n",
      "7636/7636 [==============================] - 0s 13us/step - loss: 7.2107e-05 - accuracy: 1.0000 - val_loss: 4.5729e-04 - val_accuracy: 1.0000\n",
      "Epoch 55/100\n",
      "7636/7636 [==============================] - 0s 13us/step - loss: 7.0350e-05 - accuracy: 1.0000 - val_loss: 3.9109e-04 - val_accuracy: 1.0000\n",
      "Epoch 56/100\n",
      "7636/7636 [==============================] - 0s 13us/step - loss: 7.4057e-05 - accuracy: 1.0000 - val_loss: 3.3015e-04 - val_accuracy: 1.0000\n",
      "Epoch 57/100\n",
      "7636/7636 [==============================] - 0s 13us/step - loss: 7.2717e-05 - accuracy: 1.0000 - val_loss: 2.7979e-04 - val_accuracy: 1.0000\n",
      "Epoch 58/100\n",
      "7636/7636 [==============================] - 0s 13us/step - loss: 6.1412e-05 - accuracy: 1.0000 - val_loss: 2.4593e-04 - val_accuracy: 1.0000\n",
      "Epoch 59/100\n",
      "7636/7636 [==============================] - 0s 13us/step - loss: 6.0102e-05 - accuracy: 1.0000 - val_loss: 2.1761e-04 - val_accuracy: 1.0000\n",
      "Epoch 60/100\n",
      "7636/7636 [==============================] - 0s 13us/step - loss: 6.0533e-05 - accuracy: 1.0000 - val_loss: 1.9145e-04 - val_accuracy: 1.0000\n",
      "Epoch 61/100\n",
      "7636/7636 [==============================] - 0s 13us/step - loss: 5.9520e-05 - accuracy: 1.0000 - val_loss: 1.7300e-04 - val_accuracy: 1.0000\n",
      "Epoch 62/100\n",
      "7636/7636 [==============================] - 0s 13us/step - loss: 5.7561e-05 - accuracy: 1.0000 - val_loss: 1.5520e-04 - val_accuracy: 1.0000\n",
      "Epoch 63/100\n",
      "7636/7636 [==============================] - 0s 15us/step - loss: 5.7085e-05 - accuracy: 1.0000 - val_loss: 1.4110e-04 - val_accuracy: 1.0000\n",
      "Epoch 64/100\n",
      "7636/7636 [==============================] - 0s 13us/step - loss: 6.6879e-05 - accuracy: 1.0000 - val_loss: 1.2907e-04 - val_accuracy: 1.0000\n",
      "Epoch 65/100\n",
      "7636/7636 [==============================] - 0s 13us/step - loss: 5.5231e-05 - accuracy: 1.0000 - val_loss: 1.2148e-04 - val_accuracy: 1.0000\n",
      "Epoch 66/100\n",
      "7636/7636 [==============================] - 0s 13us/step - loss: 5.4352e-05 - accuracy: 1.0000 - val_loss: 1.1307e-04 - val_accuracy: 1.0000\n",
      "Epoch 67/100\n",
      "7636/7636 [==============================] - 0s 13us/step - loss: 5.5647e-05 - accuracy: 1.0000 - val_loss: 1.0408e-04 - val_accuracy: 1.0000\n",
      "Epoch 68/100\n",
      "7636/7636 [==============================] - 0s 13us/step - loss: 5.3714e-05 - accuracy: 1.0000 - val_loss: 9.6195e-05 - val_accuracy: 1.0000\n",
      "Epoch 69/100\n",
      "7636/7636 [==============================] - 0s 13us/step - loss: 4.8819e-05 - accuracy: 1.0000 - val_loss: 9.1931e-05 - val_accuracy: 1.0000\n",
      "Epoch 70/100\n",
      "7636/7636 [==============================] - 0s 13us/step - loss: 5.2432e-05 - accuracy: 1.0000 - val_loss: 8.7241e-05 - val_accuracy: 1.0000\n",
      "Epoch 71/100\n",
      "7636/7636 [==============================] - 0s 13us/step - loss: 4.4888e-05 - accuracy: 1.0000 - val_loss: 8.2816e-05 - val_accuracy: 1.0000\n",
      "Epoch 72/100\n",
      "7636/7636 [==============================] - 0s 13us/step - loss: 5.0128e-05 - accuracy: 1.0000 - val_loss: 7.9413e-05 - val_accuracy: 1.0000\n",
      "Epoch 73/100\n",
      "7636/7636 [==============================] - 0s 13us/step - loss: 4.7908e-05 - accuracy: 1.0000 - val_loss: 7.6296e-05 - val_accuracy: 1.0000\n",
      "Epoch 74/100\n",
      "7636/7636 [==============================] - 0s 13us/step - loss: 4.0671e-05 - accuracy: 1.0000 - val_loss: 7.2675e-05 - val_accuracy: 1.0000\n",
      "Epoch 75/100\n",
      "7636/7636 [==============================] - 0s 13us/step - loss: 4.6934e-05 - accuracy: 1.0000 - val_loss: 7.0265e-05 - val_accuracy: 1.0000\n",
      "Epoch 76/100\n",
      "7636/7636 [==============================] - 0s 13us/step - loss: 4.4634e-05 - accuracy: 1.0000 - val_loss: 6.8424e-05 - val_accuracy: 1.0000\n",
      "Epoch 77/100\n",
      "7636/7636 [==============================] - 0s 13us/step - loss: 4.2137e-05 - accuracy: 1.0000 - val_loss: 6.5745e-05 - val_accuracy: 1.0000\n",
      "Epoch 78/100\n",
      "7636/7636 [==============================] - 0s 14us/step - loss: 4.4024e-05 - accuracy: 1.0000 - val_loss: 6.3516e-05 - val_accuracy: 1.0000\n",
      "Epoch 79/100\n",
      "7636/7636 [==============================] - 0s 13us/step - loss: 4.3815e-05 - accuracy: 1.0000 - val_loss: 6.2837e-05 - val_accuracy: 1.0000\n",
      "Epoch 80/100\n",
      "7636/7636 [==============================] - 0s 13us/step - loss: 4.1460e-05 - accuracy: 1.0000 - val_loss: 6.2519e-05 - val_accuracy: 1.0000\n",
      "Epoch 81/100\n",
      "7636/7636 [==============================] - 0s 13us/step - loss: 3.6531e-05 - accuracy: 1.0000 - val_loss: 6.2745e-05 - val_accuracy: 1.0000\n",
      "Epoch 82/100\n",
      "7636/7636 [==============================] - 0s 13us/step - loss: 3.5229e-05 - accuracy: 1.0000 - val_loss: 6.1280e-05 - val_accuracy: 1.0000\n",
      "Epoch 83/100\n",
      "7636/7636 [==============================] - 0s 13us/step - loss: 3.5340e-05 - accuracy: 1.0000 - val_loss: 5.9170e-05 - val_accuracy: 1.0000\n",
      "Epoch 84/100\n",
      "7636/7636 [==============================] - 0s 13us/step - loss: 3.7690e-05 - accuracy: 1.0000 - val_loss: 5.8163e-05 - val_accuracy: 1.0000\n",
      "Epoch 85/100\n",
      "7636/7636 [==============================] - 0s 13us/step - loss: 3.4410e-05 - accuracy: 1.0000 - val_loss: 5.7691e-05 - val_accuracy: 1.0000\n",
      "Epoch 86/100\n",
      "7636/7636 [==============================] - 0s 13us/step - loss: 3.2438e-05 - accuracy: 1.0000 - val_loss: 5.7099e-05 - val_accuracy: 1.0000\n",
      "Epoch 87/100\n",
      "7636/7636 [==============================] - 0s 13us/step - loss: 3.2625e-05 - accuracy: 1.0000 - val_loss: 5.5939e-05 - val_accuracy: 1.0000\n",
      "Epoch 88/100\n",
      "7636/7636 [==============================] - 0s 13us/step - loss: 3.7526e-05 - accuracy: 1.0000 - val_loss: 5.6536e-05 - val_accuracy: 1.0000\n",
      "Epoch 89/100\n",
      "7636/7636 [==============================] - 0s 13us/step - loss: 3.4282e-05 - accuracy: 1.0000 - val_loss: 5.6856e-05 - val_accuracy: 1.0000\n",
      "Epoch 90/100\n",
      "7636/7636 [==============================] - 0s 13us/step - loss: 3.4381e-05 - accuracy: 1.0000 - val_loss: 5.7068e-05 - val_accuracy: 1.0000\n",
      "Epoch 91/100\n",
      "7636/7636 [==============================] - 0s 13us/step - loss: 3.3275e-05 - accuracy: 1.0000 - val_loss: 5.4784e-05 - val_accuracy: 1.0000\n",
      "Epoch 92/100\n",
      "7636/7636 [==============================] - 0s 13us/step - loss: 3.7465e-05 - accuracy: 1.0000 - val_loss: 5.4013e-05 - val_accuracy: 1.0000\n",
      "Epoch 93/100\n",
      "7636/7636 [==============================] - 0s 13us/step - loss: 3.0156e-05 - accuracy: 1.0000 - val_loss: 5.4097e-05 - val_accuracy: 1.0000\n",
      "Epoch 94/100\n",
      "7636/7636 [==============================] - 0s 13us/step - loss: 2.9810e-05 - accuracy: 1.0000 - val_loss: 5.3745e-05 - val_accuracy: 1.0000\n",
      "Epoch 95/100\n",
      "7636/7636 [==============================] - 0s 13us/step - loss: 3.1199e-05 - accuracy: 1.0000 - val_loss: 5.2799e-05 - val_accuracy: 1.0000\n",
      "Epoch 96/100\n",
      "7636/7636 [==============================] - 0s 13us/step - loss: 2.9306e-05 - accuracy: 1.0000 - val_loss: 5.1307e-05 - val_accuracy: 1.0000\n",
      "Epoch 97/100\n",
      "7636/7636 [==============================] - 0s 13us/step - loss: 3.0583e-05 - accuracy: 1.0000 - val_loss: 5.2894e-05 - val_accuracy: 1.0000\n",
      "Epoch 98/100\n",
      "7636/7636 [==============================] - 0s 13us/step - loss: 2.8586e-05 - accuracy: 1.0000 - val_loss: 5.2430e-05 - val_accuracy: 1.0000\n"
     ]
    },
    {
     "name": "stdout",
     "output_type": "stream",
     "text": [
      "Epoch 99/100\n",
      "7636/7636 [==============================] - 0s 15us/step - loss: 2.6267e-05 - accuracy: 1.0000 - val_loss: 5.0858e-05 - val_accuracy: 1.0000\n",
      "Epoch 100/100\n",
      "7636/7636 [==============================] - 0s 13us/step - loss: 2.9361e-05 - accuracy: 1.0000 - val_loss: 5.0720e-05 - val_accuracy: 1.0000\n"
     ]
    }
   ],
   "source": [
    "results = {}\n",
    "i=1\n",
    "keras.backend.clear_session()\n",
    "model = build_mlp(input_shape=X_train.shape[1:])\n",
    "model.summary()\n",
    "optimizer = keras.optimizers.Adam(lr=Learning_Rate)\n",
    "model.compile(loss=\"categorical_crossentropy\", metrics=[\"accuracy\"], optimizer=optimizer)\n",
    "model.fit(X_train, Y_train, \n",
    "          epochs=Epochs, \n",
    "          batch_size=Batch_size, \n",
    "          validation_data=(X_test, Y_test), \n",
    "          verbose=1,\n",
    "          shuffle=True)\n",
    "    \n",
    "# Collect results\n",
    "exp_name_tag = (\"exp-%s\" % (i))\n",
    "results[exp_name_tag] = {'train-loss': model.history.history[\"loss\"],\n",
    "                         'valid-loss': model.history.history[\"val_loss\"],\n",
    "                         'train-acc': model.history.history[\"accuracy\"],\n",
    "                         'valid-acc': model.history.history[\"val_accuracy\"]}"
   ]
  },
  {
   "cell_type": "code",
   "execution_count": 91,
   "metadata": {},
   "outputs": [
    {
     "data": {
      "image/png": "[encoded data removed]",
      "text/plain": [
       "<Figure size 576x432 with 1 Axes>"
      ]
     },
     "metadata": {
      "needs_background": "light"
     },
     "output_type": "display_data"
    },
    {
     "data": {
      "image/png": "[encoded data removed]",
      "text/plain": [
       "<Figure size 576x432 with 1 Axes>"
      ]
     },
     "metadata": {
      "needs_background": "light"
     },
     "output_type": "display_data"
    }
   ],
   "source": [
    "import matplotlib.pyplot as plt\n",
    "import matplotlib.cm as mplcm\n",
    "import matplotlib.colors as colors\n",
    "%matplotlib inline\n",
    "NUM_COLORS = 20\n",
    "\n",
    "cm = plt.get_cmap('gist_rainbow')\n",
    "cNorm  = colors.Normalize(vmin=0, vmax=NUM_COLORS-1)\n",
    "scalarMap = mplcm.ScalarMappable(norm=cNorm, cmap=cm)\n",
    "color_bar = [scalarMap.to_rgba(i) for i in range(NUM_COLORS)]\n",
    "\n",
    "plt.figure(figsize=(8,6))\n",
    "for i, cond in enumerate(results.keys()):\n",
    "    plt.plot(range(len(results[cond]['train-loss'])),results[cond]['train-loss'], '-', label=cond, color=color_bar[i])\n",
    "    plt.plot(range(len(results[cond]['valid-loss'])),results[cond]['valid-loss'], '--', label=cond, color=color_bar[i])\n",
    "plt.title(\"Loss\")\n",
    "plt.legend(loc='center left', bbox_to_anchor=(1, 0.5))\n",
    "plt.show()\n",
    "\n",
    "plt.figure(figsize=(8,6))\n",
    "for i, cond in enumerate(results.keys()):\n",
    "    plt.plot(range(len(results[cond]['train-acc'])),results[cond]['train-acc'], '-', label=cond, color=color_bar[i])\n",
    "    plt.plot(range(len(results[cond]['valid-acc'])),results[cond]['valid-acc'], '--', label=cond, color=color_bar[i])\n",
    "plt.title(\"Accuracy\")\n",
    "plt.legend(loc='center left', bbox_to_anchor=(1, 0.5))\n",
    "plt.show()"
   ]
  },
  {
   "cell_type": "code",
   "execution_count": null,
   "metadata": {},
   "outputs": [],
   "source": []
  }
 ],
 "metadata": {
  "kernelspec": {
   "display_name": "Python 3",
   "language": "python",
   "name": "python3"
  },
  "language_info": {
   "codemirror_mode": {
    "name": "ipython",
    "version": 3
   },
   "file_extension": ".py",
   "mimetype": "text/x-python",
   "name": "python",
   "nbconvert_exporter": "python",
   "pygments_lexer": "ipython3",
   "version": "3.7.7"
  }
 },
 "nbformat": 4,
 "nbformat_minor": 4
}
